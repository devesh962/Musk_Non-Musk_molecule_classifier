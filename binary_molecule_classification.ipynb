{
  "nbformat": 4,
  "nbformat_minor": 0,
  "metadata": {
    "colab": {
      "name": "binary_molecule_classification",
      "provenance": [],
      "collapsed_sections": [],
      "toc_visible": true,
      "authorship_tag": "ABX9TyMYb+CKQvv/nspj324N7icE",
      "include_colab_link": true
    },
    "kernelspec": {
      "name": "python3",
      "display_name": "Python 3"
    },
    "accelerator": "GPU"
  },
  "cells": [
    {
      "cell_type": "markdown",
      "metadata": {
        "id": "view-in-github",
        "colab_type": "text"
      },
      "source": [
        "<a href=\"https://colab.research.google.com/github/devesh962/Musk_Non-Musk_molecule_classifier/blob/master/binary_molecule_classification.ipynb\" target=\"_parent\"><img src=\"https://colab.research.google.com/assets/colab-badge.svg\" alt=\"Open In Colab\"/></a>"
      ]
    },
    {
      "cell_type": "code",
      "metadata": {
        "id": "GndygoQEb3r7",
        "colab_type": "code",
        "colab": {}
      },
      "source": [
        "\n",
        "import numpy as np\n",
        "import pandas as pd\n",
        "import matplotlib.pyplot as plt\n",
        "from sklearn.model_selection import train_test_split\n",
        "from sklearn.metrics import roc_auc_score\n",
        "from sklearn.metrics import roc_curve\n",
        "from sklearn.decomposition import PCA\n",
        "from sklearn.metrics import f1_score, precision_score, recall_score"
      ],
      "execution_count": 0,
      "outputs": []
    },
    {
      "cell_type": "code",
      "metadata": {
        "id": "E0HGeJxMDnKL",
        "colab_type": "code",
        "outputId": "fc8a4b71-2bc5-4803-fc2d-d3fc79f3bc42",
        "colab": {
          "base_uri": "https://localhost:8080/",
          "height": 34
        }
      },
      "source": [
        "from google.colab import drive\n",
        "drive.mount('/gdrive')"
      ],
      "execution_count": 2,
      "outputs": [
        {
          "output_type": "stream",
          "text": [
            "Drive already mounted at /gdrive; to attempt to forcibly remount, call drive.mount(\"/gdrive\", force_remount=True).\n"
          ],
          "name": "stdout"
        }
      ]
    },
    {
      "cell_type": "markdown",
      "metadata": {
        "id": "9PosccM6s7pP",
        "colab_type": "text"
      },
      "source": [
        "## **Loading The Dataset**\n",
        "\n"
      ]
    },
    {
      "cell_type": "code",
      "metadata": {
        "id": "W1gci9JMDnHR",
        "colab_type": "code",
        "colab": {}
      },
      "source": [
        "data=pd.read_csv(\"/gdrive/My Drive/Credicxo/musk_csv.csv\")"
      ],
      "execution_count": 0,
      "outputs": []
    },
    {
      "cell_type": "markdown",
      "metadata": {
        "id": "KvhH24UntjSw",
        "colab_type": "text"
      },
      "source": [
        "### **Visualization of the Dataset**"
      ]
    },
    {
      "cell_type": "code",
      "metadata": {
        "id": "Tpu6vaE8DnDv",
        "colab_type": "code",
        "outputId": "e80f3360-adb6-4006-a475-c92c3d65e653",
        "colab": {
          "base_uri": "https://localhost:8080/",
          "height": 253
        }
      },
      "source": [
        "data.head()"
      ],
      "execution_count": 4,
      "outputs": [
        {
          "output_type": "execute_result",
          "data": {
            "text/html": [
              "<div>\n",
              "<style scoped>\n",
              "    .dataframe tbody tr th:only-of-type {\n",
              "        vertical-align: middle;\n",
              "    }\n",
              "\n",
              "    .dataframe tbody tr th {\n",
              "        vertical-align: top;\n",
              "    }\n",
              "\n",
              "    .dataframe thead th {\n",
              "        text-align: right;\n",
              "    }\n",
              "</style>\n",
              "<table border=\"1\" class=\"dataframe\">\n",
              "  <thead>\n",
              "    <tr style=\"text-align: right;\">\n",
              "      <th></th>\n",
              "      <th>ID</th>\n",
              "      <th>molecule_name</th>\n",
              "      <th>conformation_name</th>\n",
              "      <th>f1</th>\n",
              "      <th>f2</th>\n",
              "      <th>f3</th>\n",
              "      <th>f4</th>\n",
              "      <th>f5</th>\n",
              "      <th>f6</th>\n",
              "      <th>f7</th>\n",
              "      <th>f8</th>\n",
              "      <th>f9</th>\n",
              "      <th>f10</th>\n",
              "      <th>f11</th>\n",
              "      <th>f12</th>\n",
              "      <th>f13</th>\n",
              "      <th>f14</th>\n",
              "      <th>f15</th>\n",
              "      <th>f16</th>\n",
              "      <th>f17</th>\n",
              "      <th>f18</th>\n",
              "      <th>f19</th>\n",
              "      <th>f20</th>\n",
              "      <th>f21</th>\n",
              "      <th>f22</th>\n",
              "      <th>f23</th>\n",
              "      <th>f24</th>\n",
              "      <th>f25</th>\n",
              "      <th>f26</th>\n",
              "      <th>f27</th>\n",
              "      <th>f28</th>\n",
              "      <th>f29</th>\n",
              "      <th>f30</th>\n",
              "      <th>f31</th>\n",
              "      <th>f32</th>\n",
              "      <th>f33</th>\n",
              "      <th>f34</th>\n",
              "      <th>f35</th>\n",
              "      <th>f36</th>\n",
              "      <th>f37</th>\n",
              "      <th>...</th>\n",
              "      <th>f128</th>\n",
              "      <th>f129</th>\n",
              "      <th>f130</th>\n",
              "      <th>f131</th>\n",
              "      <th>f132</th>\n",
              "      <th>f133</th>\n",
              "      <th>f134</th>\n",
              "      <th>f135</th>\n",
              "      <th>f136</th>\n",
              "      <th>f137</th>\n",
              "      <th>f138</th>\n",
              "      <th>f139</th>\n",
              "      <th>f140</th>\n",
              "      <th>f141</th>\n",
              "      <th>f142</th>\n",
              "      <th>f143</th>\n",
              "      <th>f144</th>\n",
              "      <th>f145</th>\n",
              "      <th>f146</th>\n",
              "      <th>f147</th>\n",
              "      <th>f148</th>\n",
              "      <th>f149</th>\n",
              "      <th>f150</th>\n",
              "      <th>f151</th>\n",
              "      <th>f152</th>\n",
              "      <th>f153</th>\n",
              "      <th>f154</th>\n",
              "      <th>f155</th>\n",
              "      <th>f156</th>\n",
              "      <th>f157</th>\n",
              "      <th>f158</th>\n",
              "      <th>f159</th>\n",
              "      <th>f160</th>\n",
              "      <th>f161</th>\n",
              "      <th>f162</th>\n",
              "      <th>f163</th>\n",
              "      <th>f164</th>\n",
              "      <th>f165</th>\n",
              "      <th>f166</th>\n",
              "      <th>class</th>\n",
              "    </tr>\n",
              "  </thead>\n",
              "  <tbody>\n",
              "    <tr>\n",
              "      <th>0</th>\n",
              "      <td>1</td>\n",
              "      <td>MUSK-211</td>\n",
              "      <td>211_1+1</td>\n",
              "      <td>46</td>\n",
              "      <td>-108</td>\n",
              "      <td>-60</td>\n",
              "      <td>-69</td>\n",
              "      <td>-117</td>\n",
              "      <td>49</td>\n",
              "      <td>38</td>\n",
              "      <td>-161</td>\n",
              "      <td>-8</td>\n",
              "      <td>5</td>\n",
              "      <td>-323</td>\n",
              "      <td>-220</td>\n",
              "      <td>-113</td>\n",
              "      <td>-299</td>\n",
              "      <td>-283</td>\n",
              "      <td>-307</td>\n",
              "      <td>-31</td>\n",
              "      <td>-106</td>\n",
              "      <td>-227</td>\n",
              "      <td>-42</td>\n",
              "      <td>-59</td>\n",
              "      <td>-22</td>\n",
              "      <td>-67</td>\n",
              "      <td>189</td>\n",
              "      <td>81</td>\n",
              "      <td>17</td>\n",
              "      <td>-27</td>\n",
              "      <td>-89</td>\n",
              "      <td>-67</td>\n",
              "      <td>105</td>\n",
              "      <td>-116</td>\n",
              "      <td>124</td>\n",
              "      <td>-106</td>\n",
              "      <td>5</td>\n",
              "      <td>-120</td>\n",
              "      <td>63</td>\n",
              "      <td>-165</td>\n",
              "      <td>...</td>\n",
              "      <td>81</td>\n",
              "      <td>-114</td>\n",
              "      <td>-187</td>\n",
              "      <td>45</td>\n",
              "      <td>-118</td>\n",
              "      <td>-75</td>\n",
              "      <td>-182</td>\n",
              "      <td>-234</td>\n",
              "      <td>-19</td>\n",
              "      <td>12</td>\n",
              "      <td>-13</td>\n",
              "      <td>-41</td>\n",
              "      <td>-119</td>\n",
              "      <td>-149</td>\n",
              "      <td>70</td>\n",
              "      <td>17</td>\n",
              "      <td>-20</td>\n",
              "      <td>-177</td>\n",
              "      <td>-101</td>\n",
              "      <td>-116</td>\n",
              "      <td>-14</td>\n",
              "      <td>-50</td>\n",
              "      <td>24</td>\n",
              "      <td>-81</td>\n",
              "      <td>-125</td>\n",
              "      <td>-114</td>\n",
              "      <td>-44</td>\n",
              "      <td>128</td>\n",
              "      <td>3</td>\n",
              "      <td>-244</td>\n",
              "      <td>-308</td>\n",
              "      <td>52</td>\n",
              "      <td>-7</td>\n",
              "      <td>39</td>\n",
              "      <td>126</td>\n",
              "      <td>156</td>\n",
              "      <td>-50</td>\n",
              "      <td>-112</td>\n",
              "      <td>96</td>\n",
              "      <td>1</td>\n",
              "    </tr>\n",
              "    <tr>\n",
              "      <th>1</th>\n",
              "      <td>2</td>\n",
              "      <td>MUSK-211</td>\n",
              "      <td>211_1+10</td>\n",
              "      <td>41</td>\n",
              "      <td>-188</td>\n",
              "      <td>-145</td>\n",
              "      <td>22</td>\n",
              "      <td>-117</td>\n",
              "      <td>-6</td>\n",
              "      <td>57</td>\n",
              "      <td>-171</td>\n",
              "      <td>-39</td>\n",
              "      <td>-100</td>\n",
              "      <td>-319</td>\n",
              "      <td>-111</td>\n",
              "      <td>-228</td>\n",
              "      <td>-281</td>\n",
              "      <td>-281</td>\n",
              "      <td>-300</td>\n",
              "      <td>54</td>\n",
              "      <td>-149</td>\n",
              "      <td>-98</td>\n",
              "      <td>-196</td>\n",
              "      <td>-27</td>\n",
              "      <td>-22</td>\n",
              "      <td>2</td>\n",
              "      <td>75</td>\n",
              "      <td>49</td>\n",
              "      <td>-34</td>\n",
              "      <td>45</td>\n",
              "      <td>-91</td>\n",
              "      <td>32</td>\n",
              "      <td>95</td>\n",
              "      <td>-116</td>\n",
              "      <td>85</td>\n",
              "      <td>-23</td>\n",
              "      <td>42</td>\n",
              "      <td>-58</td>\n",
              "      <td>61</td>\n",
              "      <td>-171</td>\n",
              "      <td>...</td>\n",
              "      <td>88</td>\n",
              "      <td>-21</td>\n",
              "      <td>-32</td>\n",
              "      <td>32</td>\n",
              "      <td>-128</td>\n",
              "      <td>-72</td>\n",
              "      <td>-124</td>\n",
              "      <td>-218</td>\n",
              "      <td>-94</td>\n",
              "      <td>53</td>\n",
              "      <td>-79</td>\n",
              "      <td>-20</td>\n",
              "      <td>-35</td>\n",
              "      <td>-26</td>\n",
              "      <td>4</td>\n",
              "      <td>50</td>\n",
              "      <td>17</td>\n",
              "      <td>-177</td>\n",
              "      <td>-102</td>\n",
              "      <td>-121</td>\n",
              "      <td>-66</td>\n",
              "      <td>-77</td>\n",
              "      <td>51</td>\n",
              "      <td>-41</td>\n",
              "      <td>-34</td>\n",
              "      <td>-32</td>\n",
              "      <td>-63</td>\n",
              "      <td>115</td>\n",
              "      <td>-5</td>\n",
              "      <td>-235</td>\n",
              "      <td>-59</td>\n",
              "      <td>-2</td>\n",
              "      <td>52</td>\n",
              "      <td>103</td>\n",
              "      <td>136</td>\n",
              "      <td>169</td>\n",
              "      <td>-61</td>\n",
              "      <td>-136</td>\n",
              "      <td>79</td>\n",
              "      <td>1</td>\n",
              "    </tr>\n",
              "    <tr>\n",
              "      <th>2</th>\n",
              "      <td>3</td>\n",
              "      <td>MUSK-211</td>\n",
              "      <td>211_1+11</td>\n",
              "      <td>46</td>\n",
              "      <td>-194</td>\n",
              "      <td>-145</td>\n",
              "      <td>28</td>\n",
              "      <td>-117</td>\n",
              "      <td>73</td>\n",
              "      <td>57</td>\n",
              "      <td>-168</td>\n",
              "      <td>-39</td>\n",
              "      <td>-22</td>\n",
              "      <td>-319</td>\n",
              "      <td>-111</td>\n",
              "      <td>-104</td>\n",
              "      <td>-283</td>\n",
              "      <td>-282</td>\n",
              "      <td>-303</td>\n",
              "      <td>52</td>\n",
              "      <td>-152</td>\n",
              "      <td>-97</td>\n",
              "      <td>-225</td>\n",
              "      <td>-28</td>\n",
              "      <td>-22</td>\n",
              "      <td>2</td>\n",
              "      <td>179</td>\n",
              "      <td>49</td>\n",
              "      <td>-33</td>\n",
              "      <td>46</td>\n",
              "      <td>-88</td>\n",
              "      <td>22</td>\n",
              "      <td>79</td>\n",
              "      <td>-116</td>\n",
              "      <td>19</td>\n",
              "      <td>-11</td>\n",
              "      <td>6</td>\n",
              "      <td>-38</td>\n",
              "      <td>71</td>\n",
              "      <td>-175</td>\n",
              "      <td>...</td>\n",
              "      <td>64</td>\n",
              "      <td>0</td>\n",
              "      <td>-23</td>\n",
              "      <td>-15</td>\n",
              "      <td>-129</td>\n",
              "      <td>-74</td>\n",
              "      <td>-125</td>\n",
              "      <td>-221</td>\n",
              "      <td>-93</td>\n",
              "      <td>53</td>\n",
              "      <td>-72</td>\n",
              "      <td>-19</td>\n",
              "      <td>-33</td>\n",
              "      <td>-26</td>\n",
              "      <td>3</td>\n",
              "      <td>49</td>\n",
              "      <td>17</td>\n",
              "      <td>-177</td>\n",
              "      <td>-102</td>\n",
              "      <td>-119</td>\n",
              "      <td>-66</td>\n",
              "      <td>-81</td>\n",
              "      <td>51</td>\n",
              "      <td>-41</td>\n",
              "      <td>-27</td>\n",
              "      <td>-41</td>\n",
              "      <td>-140</td>\n",
              "      <td>77</td>\n",
              "      <td>-163</td>\n",
              "      <td>-238</td>\n",
              "      <td>-134</td>\n",
              "      <td>-154</td>\n",
              "      <td>57</td>\n",
              "      <td>143</td>\n",
              "      <td>142</td>\n",
              "      <td>165</td>\n",
              "      <td>-67</td>\n",
              "      <td>-145</td>\n",
              "      <td>39</td>\n",
              "      <td>1</td>\n",
              "    </tr>\n",
              "    <tr>\n",
              "      <th>3</th>\n",
              "      <td>4</td>\n",
              "      <td>MUSK-211</td>\n",
              "      <td>211_1+12</td>\n",
              "      <td>41</td>\n",
              "      <td>-188</td>\n",
              "      <td>-145</td>\n",
              "      <td>22</td>\n",
              "      <td>-117</td>\n",
              "      <td>-7</td>\n",
              "      <td>57</td>\n",
              "      <td>-170</td>\n",
              "      <td>-39</td>\n",
              "      <td>-99</td>\n",
              "      <td>-319</td>\n",
              "      <td>-111</td>\n",
              "      <td>-228</td>\n",
              "      <td>-282</td>\n",
              "      <td>-281</td>\n",
              "      <td>-301</td>\n",
              "      <td>54</td>\n",
              "      <td>-150</td>\n",
              "      <td>-98</td>\n",
              "      <td>-196</td>\n",
              "      <td>-28</td>\n",
              "      <td>-22</td>\n",
              "      <td>2</td>\n",
              "      <td>77</td>\n",
              "      <td>48</td>\n",
              "      <td>-34</td>\n",
              "      <td>46</td>\n",
              "      <td>-91</td>\n",
              "      <td>32</td>\n",
              "      <td>94</td>\n",
              "      <td>-116</td>\n",
              "      <td>84</td>\n",
              "      <td>-23</td>\n",
              "      <td>41</td>\n",
              "      <td>-58</td>\n",
              "      <td>62</td>\n",
              "      <td>-171</td>\n",
              "      <td>...</td>\n",
              "      <td>88</td>\n",
              "      <td>-20</td>\n",
              "      <td>-32</td>\n",
              "      <td>32</td>\n",
              "      <td>-128</td>\n",
              "      <td>-73</td>\n",
              "      <td>-125</td>\n",
              "      <td>-220</td>\n",
              "      <td>-93</td>\n",
              "      <td>53</td>\n",
              "      <td>-78</td>\n",
              "      <td>-19</td>\n",
              "      <td>-34</td>\n",
              "      <td>-26</td>\n",
              "      <td>4</td>\n",
              "      <td>50</td>\n",
              "      <td>17</td>\n",
              "      <td>-177</td>\n",
              "      <td>-101</td>\n",
              "      <td>-121</td>\n",
              "      <td>-65</td>\n",
              "      <td>-77</td>\n",
              "      <td>52</td>\n",
              "      <td>-41</td>\n",
              "      <td>-34</td>\n",
              "      <td>-32</td>\n",
              "      <td>-66</td>\n",
              "      <td>115</td>\n",
              "      <td>-7</td>\n",
              "      <td>-236</td>\n",
              "      <td>-60</td>\n",
              "      <td>-4</td>\n",
              "      <td>52</td>\n",
              "      <td>104</td>\n",
              "      <td>136</td>\n",
              "      <td>168</td>\n",
              "      <td>-60</td>\n",
              "      <td>-135</td>\n",
              "      <td>80</td>\n",
              "      <td>1</td>\n",
              "    </tr>\n",
              "    <tr>\n",
              "      <th>4</th>\n",
              "      <td>5</td>\n",
              "      <td>MUSK-211</td>\n",
              "      <td>211_1+13</td>\n",
              "      <td>41</td>\n",
              "      <td>-188</td>\n",
              "      <td>-145</td>\n",
              "      <td>22</td>\n",
              "      <td>-117</td>\n",
              "      <td>-7</td>\n",
              "      <td>57</td>\n",
              "      <td>-170</td>\n",
              "      <td>-39</td>\n",
              "      <td>-99</td>\n",
              "      <td>-319</td>\n",
              "      <td>-111</td>\n",
              "      <td>-228</td>\n",
              "      <td>-282</td>\n",
              "      <td>-281</td>\n",
              "      <td>-301</td>\n",
              "      <td>54</td>\n",
              "      <td>-150</td>\n",
              "      <td>-98</td>\n",
              "      <td>-196</td>\n",
              "      <td>-28</td>\n",
              "      <td>-22</td>\n",
              "      <td>2</td>\n",
              "      <td>78</td>\n",
              "      <td>48</td>\n",
              "      <td>-34</td>\n",
              "      <td>46</td>\n",
              "      <td>-91</td>\n",
              "      <td>31</td>\n",
              "      <td>94</td>\n",
              "      <td>-116</td>\n",
              "      <td>84</td>\n",
              "      <td>-23</td>\n",
              "      <td>41</td>\n",
              "      <td>-58</td>\n",
              "      <td>62</td>\n",
              "      <td>-171</td>\n",
              "      <td>...</td>\n",
              "      <td>88</td>\n",
              "      <td>-20</td>\n",
              "      <td>-32</td>\n",
              "      <td>32</td>\n",
              "      <td>-128</td>\n",
              "      <td>-73</td>\n",
              "      <td>-125</td>\n",
              "      <td>-220</td>\n",
              "      <td>-93</td>\n",
              "      <td>53</td>\n",
              "      <td>-78</td>\n",
              "      <td>-19</td>\n",
              "      <td>-34</td>\n",
              "      <td>-26</td>\n",
              "      <td>4</td>\n",
              "      <td>50</td>\n",
              "      <td>17</td>\n",
              "      <td>-177</td>\n",
              "      <td>-101</td>\n",
              "      <td>-121</td>\n",
              "      <td>-65</td>\n",
              "      <td>-76</td>\n",
              "      <td>52</td>\n",
              "      <td>-41</td>\n",
              "      <td>-34</td>\n",
              "      <td>-32</td>\n",
              "      <td>-66</td>\n",
              "      <td>115</td>\n",
              "      <td>-8</td>\n",
              "      <td>-236</td>\n",
              "      <td>-60</td>\n",
              "      <td>-4</td>\n",
              "      <td>52</td>\n",
              "      <td>104</td>\n",
              "      <td>137</td>\n",
              "      <td>168</td>\n",
              "      <td>-60</td>\n",
              "      <td>-135</td>\n",
              "      <td>80</td>\n",
              "      <td>1</td>\n",
              "    </tr>\n",
              "  </tbody>\n",
              "</table>\n",
              "<p>5 rows × 170 columns</p>\n",
              "</div>"
            ],
            "text/plain": [
              "   ID molecule_name conformation_name  f1   f2  ...  f163  f164  f165  f166  class\n",
              "0   1      MUSK-211           211_1+1  46 -108  ...   156   -50  -112    96      1\n",
              "1   2      MUSK-211          211_1+10  41 -188  ...   169   -61  -136    79      1\n",
              "2   3      MUSK-211          211_1+11  46 -194  ...   165   -67  -145    39      1\n",
              "3   4      MUSK-211          211_1+12  41 -188  ...   168   -60  -135    80      1\n",
              "4   5      MUSK-211          211_1+13  41 -188  ...   168   -60  -135    80      1\n",
              "\n",
              "[5 rows x 170 columns]"
            ]
          },
          "metadata": {
            "tags": []
          },
          "execution_count": 4
        }
      ]
    },
    {
      "cell_type": "markdown",
      "metadata": {
        "id": "6IYaRqm7KOZq",
        "colab_type": "text"
      },
      "source": [
        "# **Preprocessing**"
      ]
    },
    {
      "cell_type": "markdown",
      "metadata": {
        "id": "NEhCmCmJtvbB",
        "colab_type": "text"
      },
      "source": [
        "Checking if there are any missing values in the dataset."
      ]
    },
    {
      "cell_type": "code",
      "metadata": {
        "id": "CvrXmAbJDnA8",
        "colab_type": "code",
        "outputId": "cbc12b87-a527-4177-e3cf-f345a4762408",
        "colab": {
          "base_uri": "https://localhost:8080/",
          "height": 221
        }
      },
      "source": [
        "data.isna().sum()"
      ],
      "execution_count": 5,
      "outputs": [
        {
          "output_type": "execute_result",
          "data": {
            "text/plain": [
              "ID                   0\n",
              "molecule_name        0\n",
              "conformation_name    0\n",
              "f1                   0\n",
              "f2                   0\n",
              "                    ..\n",
              "f163                 0\n",
              "f164                 0\n",
              "f165                 0\n",
              "f166                 0\n",
              "class                0\n",
              "Length: 170, dtype: int64"
            ]
          },
          "metadata": {
            "tags": []
          },
          "execution_count": 5
        }
      ]
    },
    {
      "cell_type": "markdown",
      "metadata": {
        "id": "wbqo_ZxLIkph",
        "colab_type": "text"
      },
      "source": [
        "Dropping columns based on high correlation"
      ]
    },
    {
      "cell_type": "code",
      "metadata": {
        "id": "5pAHmXVeDm5V",
        "colab_type": "code",
        "colab": {}
      },
      "source": [
        "# Create correlation matrix\n",
        "corr_matrix = data.corr().abs()\n",
        "\n",
        "# Select upper triangle of correlation matrix\n",
        "upper = corr_matrix.where(np.triu(np.ones(corr_matrix.shape), k=1).astype(np.bool))\n",
        "\n",
        "# Find index of feature columns with correlation greater than 0.90\n",
        "to_drop = [column for column in upper.columns if any(upper[column] > 0.89)]\n"
      ],
      "execution_count": 0,
      "outputs": []
    },
    {
      "cell_type": "code",
      "metadata": {
        "id": "EtClxpgvLfnC",
        "colab_type": "code",
        "colab": {}
      },
      "source": [
        "# drop features\n",
        "df = data.drop(columns = to_drop)"
      ],
      "execution_count": 0,
      "outputs": []
    },
    {
      "cell_type": "code",
      "metadata": {
        "id": "tXEJc2g5LflJ",
        "colab_type": "code",
        "outputId": "6c77c70c-2118-4296-8008-14a7ba6689ad",
        "colab": {
          "base_uri": "https://localhost:8080/",
          "height": 34
        }
      },
      "source": [
        "df.shape"
      ],
      "execution_count": 8,
      "outputs": [
        {
          "output_type": "execute_result",
          "data": {
            "text/plain": [
              "(6598, 108)"
            ]
          },
          "metadata": {
            "tags": []
          },
          "execution_count": 8
        }
      ]
    },
    {
      "cell_type": "markdown",
      "metadata": {
        "id": "pYj7-F8lIypP",
        "colab_type": "text"
      },
      "source": [
        "Splitting the dataset into train and test(80:20)"
      ]
    },
    {
      "cell_type": "code",
      "metadata": {
        "id": "OxmEpYZALfiQ",
        "colab_type": "code",
        "outputId": "39f4638e-65df-400b-9511-5c2c56d9990a",
        "colab": {
          "base_uri": "https://localhost:8080/",
          "height": 34
        }
      },
      "source": [
        "train,test = train_test_split(df, random_state=30, test_size = 0.2)\n",
        "X_train = train.iloc[:,3:-1]\n",
        "Y_train = train.iloc[:,-1:]\n",
        "X_test = test.iloc[:,3:-1]\n",
        "Y_test = test.iloc[:,-1:]\n",
        "X_train.shape"
      ],
      "execution_count": 9,
      "outputs": [
        {
          "output_type": "execute_result",
          "data": {
            "text/plain": [
              "(5278, 104)"
            ]
          },
          "metadata": {
            "tags": []
          },
          "execution_count": 9
        }
      ]
    },
    {
      "cell_type": "markdown",
      "metadata": {
        "id": "Him0GR-HItkX",
        "colab_type": "text"
      },
      "source": [
        "Importing libraries to create the model"
      ]
    },
    {
      "cell_type": "code",
      "metadata": {
        "id": "ewbrY-65LffT",
        "colab_type": "code",
        "colab": {}
      },
      "source": [
        "import tensorflow as tf\n",
        "import keras\n",
        "from keras.models import Sequential\n",
        "from keras.layers import Dense, Dropout, Flatten\n",
        "from keras.layers import Conv2D, MaxPooling2D, BatchNormalization"
      ],
      "execution_count": 0,
      "outputs": []
    },
    {
      "cell_type": "code",
      "metadata": {
        "id": "wlVXkqClL_ZX",
        "colab_type": "code",
        "colab": {}
      },
      "source": [
        "x_train=X_train.values.reshape(X_train.shape[0],13,8,1)\n",
        "x_test=X_test.values.reshape(X_test.shape[0],13,8,1)"
      ],
      "execution_count": 0,
      "outputs": []
    },
    {
      "cell_type": "code",
      "metadata": {
        "id": "H8iSAh-WL_Pc",
        "colab_type": "code",
        "colab": {
          "base_uri": "https://localhost:8080/",
          "height": 34
        },
        "outputId": "9ea3a11a-455c-4295-c065-a9428b192b7e"
      },
      "source": [
        "x_train.shape\n",
        "x_test.shape"
      ],
      "execution_count": 14,
      "outputs": [
        {
          "output_type": "execute_result",
          "data": {
            "text/plain": [
              "(1320, 13, 8, 1)"
            ]
          },
          "metadata": {
            "tags": []
          },
          "execution_count": 14
        }
      ]
    },
    {
      "cell_type": "markdown",
      "metadata": {
        "id": "1iTWMIGuI55p",
        "colab_type": "text"
      },
      "source": [
        "# **Model(CNN with added batch normalization and dropout)**"
      ]
    },
    {
      "cell_type": "code",
      "metadata": {
        "id": "xEg_xjL8L_Nx",
        "colab_type": "code",
        "colab": {}
      },
      "source": [
        "model=Sequential()\n",
        "model.add(Conv2D(32,kernel_size=(3,3),activation='relu',input_shape=(13,8,1)))\n",
        "model.add(Conv2D(64,(3,3),activation='relu'))\n",
        "model.add(BatchNormalization())\n",
        "model.add(MaxPooling2D(pool_size=(2,2)))\n",
        "model.add(Flatten())\n",
        "model.add(Dense(128,activation='relu'))\n",
        "model.add(Dropout(0.4))\n",
        "model.add(Dense(1,activation='sigmoid'))"
      ],
      "execution_count": 0,
      "outputs": []
    },
    {
      "cell_type": "markdown",
      "metadata": {
        "id": "X5dxO602JHZU",
        "colab_type": "text"
      },
      "source": [
        "Loss_function(binary_crossentropy), optimizer(Adam)"
      ]
    },
    {
      "cell_type": "code",
      "metadata": {
        "id": "R8pzoCqUL_KD",
        "colab_type": "code",
        "colab": {}
      },
      "source": [
        "\n",
        "model.compile(loss=keras.losses.binary_crossentropy,optimizer=keras.optimizers.Adam(),metrics=['accuracy'])"
      ],
      "execution_count": 0,
      "outputs": []
    },
    {
      "cell_type": "code",
      "metadata": {
        "id": "zkRMr-VeL_Hc",
        "colab_type": "code",
        "colab": {
          "base_uri": "https://localhost:8080/",
          "height": 649
        },
        "outputId": "a7e9bb3f-5283-4d6d-dfbc-f02f13785ae4"
      },
      "source": [
        "history = model.fit(x_train,Y_train,batch_size=128,epochs=15,validation_data=(x_test,Y_test))\n",
        "score=model.evaluate(x_test,Y_test,verbose=0)\n",
        "print(score)"
      ],
      "execution_count": 17,
      "outputs": [
        {
          "output_type": "stream",
          "text": [
            "WARNING:tensorflow:From /usr/local/lib/python3.6/dist-packages/keras/backend/tensorflow_backend.py:1033: The name tf.assign_add is deprecated. Please use tf.compat.v1.assign_add instead.\n",
            "\n",
            "WARNING:tensorflow:From /usr/local/lib/python3.6/dist-packages/keras/backend/tensorflow_backend.py:1020: The name tf.assign is deprecated. Please use tf.compat.v1.assign instead.\n",
            "\n",
            "Train on 5278 samples, validate on 1320 samples\n",
            "Epoch 1/15\n",
            "5278/5278 [==============================] - 2s 409us/step - loss: 0.4066 - acc: 0.8668 - val_loss: 0.1657 - val_acc: 0.9364\n",
            "Epoch 2/15\n",
            "5278/5278 [==============================] - 0s 50us/step - loss: 0.1519 - acc: 0.9439 - val_loss: 0.1235 - val_acc: 0.9530\n",
            "Epoch 3/15\n",
            "5278/5278 [==============================] - 0s 52us/step - loss: 0.1098 - acc: 0.9555 - val_loss: 0.0977 - val_acc: 0.9576\n",
            "Epoch 4/15\n",
            "5278/5278 [==============================] - 0s 45us/step - loss: 0.0885 - acc: 0.9674 - val_loss: 0.0914 - val_acc: 0.9629\n",
            "Epoch 5/15\n",
            "5278/5278 [==============================] - 0s 48us/step - loss: 0.0699 - acc: 0.9720 - val_loss: 0.0733 - val_acc: 0.9689\n",
            "Epoch 6/15\n",
            "5278/5278 [==============================] - 0s 50us/step - loss: 0.0601 - acc: 0.9769 - val_loss: 0.0638 - val_acc: 0.9735\n",
            "Epoch 7/15\n",
            "5278/5278 [==============================] - 0s 50us/step - loss: 0.0495 - acc: 0.9801 - val_loss: 0.0708 - val_acc: 0.9727\n",
            "Epoch 8/15\n",
            "5278/5278 [==============================] - 0s 47us/step - loss: 0.0474 - acc: 0.9828 - val_loss: 0.1094 - val_acc: 0.9515\n",
            "Epoch 9/15\n",
            "5278/5278 [==============================] - 0s 47us/step - loss: 0.0469 - acc: 0.9801 - val_loss: 0.0636 - val_acc: 0.9705\n",
            "Epoch 10/15\n",
            "5278/5278 [==============================] - 0s 47us/step - loss: 0.0414 - acc: 0.9835 - val_loss: 0.0557 - val_acc: 0.9773\n",
            "Epoch 11/15\n",
            "5278/5278 [==============================] - 0s 48us/step - loss: 0.0349 - acc: 0.9858 - val_loss: 0.0497 - val_acc: 0.9758\n",
            "Epoch 12/15\n",
            "5278/5278 [==============================] - 0s 49us/step - loss: 0.0311 - acc: 0.9896 - val_loss: 0.0483 - val_acc: 0.9811\n",
            "Epoch 13/15\n",
            "5278/5278 [==============================] - 0s 49us/step - loss: 0.0236 - acc: 0.9905 - val_loss: 0.0398 - val_acc: 0.9818\n",
            "Epoch 14/15\n",
            "5278/5278 [==============================] - 0s 48us/step - loss: 0.0267 - acc: 0.9909 - val_loss: 0.0517 - val_acc: 0.9803\n",
            "Epoch 15/15\n",
            "5278/5278 [==============================] - 0s 49us/step - loss: 0.0200 - acc: 0.9928 - val_loss: 0.0417 - val_acc: 0.9841\n",
            "[0.04168009318721791, 0.9840909090909091]\n"
          ],
          "name": "stdout"
        }
      ]
    },
    {
      "cell_type": "markdown",
      "metadata": {
        "id": "0ylh0PqmJSdS",
        "colab_type": "text"
      },
      "source": [
        "# **Loss and Accuracy Curves**"
      ]
    },
    {
      "cell_type": "code",
      "metadata": {
        "id": "uP-2suhY1r7a",
        "colab_type": "code",
        "colab": {
          "base_uri": "https://localhost:8080/",
          "height": 573
        },
        "outputId": "05691a0c-9f55-4ea0-de80-778a6851b6f9"
      },
      "source": [
        "# summarize history for accuracy\n",
        "plt.plot(history.history['acc'])\n",
        "plt.plot(history.history['val_acc'])\n",
        "plt.title('model accuracy')\n",
        "plt.ylabel('accuracy')\n",
        "plt.xlabel('epoch')\n",
        "plt.legend(['train', 'test'], loc='upper left')\n",
        "plt.show()\n",
        "\n",
        "# summarize history for loss\n",
        "plt.plot(history.history['loss'])\n",
        "plt.plot(history.history['val_loss'])\n",
        "plt.title('model loss')\n",
        "plt.ylabel('loss')\n",
        "plt.xlabel('epoch')\n",
        "plt.legend(['train', 'test'], loc='upper right')\n",
        "plt.show()"
      ],
      "execution_count": 18,
      "outputs": [
        {
          "output_type": "display_data",
          "data": {
            "image/png": "[encoded data removed]",
            "text/plain": [
              "<Figure size 432x288 with 1 Axes>"
            ]
          },
          "metadata": {
            "tags": []
          }
        },
        {
          "output_type": "display_data",
          "data": {
            "image/png": "[encoded data removed]",
            "text/plain": [
              "<Figure size 432x288 with 1 Axes>"
            ]
          },
          "metadata": {
            "tags": []
          }
        }
      ]
    },
    {
      "cell_type": "markdown",
      "metadata": {
        "id": "V3_HYoDaJdO-",
        "colab_type": "text"
      },
      "source": [
        "# **Performance Measures**"
      ]
    },
    {
      "cell_type": "code",
      "metadata": {
        "id": "gglYeDrh3uWI",
        "colab_type": "code",
        "colab": {
          "base_uri": "https://localhost:8080/",
          "height": 102
        },
        "outputId": "006a32b1-c79b-482a-edee-c2cb6941f930"
      },
      "source": [
        "\n",
        "print(\"f1_score:\",f1_score(Y_test,model.predict_classes(x_test),))\n",
        "print(\"recall:\",recall_score(Y_test,model.predict_classes(x_test),))\n",
        "print(\"precision:\",precision_score(Y_test,model.predict_classes(x_test),))\n",
        "print(\"Validation Loss:\",score[0])\n",
        "print(\"Validation Accuracy:\",score[1])"
      ],
      "execution_count": 19,
      "outputs": [
        {
          "output_type": "stream",
          "text": [
            "f1_score: 0.9473684210526315\n",
            "recall: 0.9792746113989638\n",
            "precision: 0.9174757281553398\n",
            "Validation Loss: 0.04168009318721791\n",
            "Validation Accuracy: 0.9840909090909091\n"
          ],
          "name": "stdout"
        }
      ]
    },
    {
      "cell_type": "markdown",
      "metadata": {
        "id": "VCYS7UCkJkjZ",
        "colab_type": "text"
      },
      "source": [
        "Saving the Model"
      ]
    },
    {
      "cell_type": "code",
      "metadata": {
        "id": "OG2Q6tor5f4y",
        "colab_type": "code",
        "colab": {}
      },
      "source": [
        "model.save(\"/gdrive/My Drive/Credicxo/model.h5\")"
      ],
      "execution_count": 0,
      "outputs": []
    }
  ]
}